{
  "nbformat": 4,
  "nbformat_minor": 0,
  "metadata": {
    "colab": {
      "name": "Model Development.ipynb",
      "provenance": [],
      "collapsed_sections": []
    },
    "kernelspec": {
      "display_name": "Python 3",
      "name": "python3"
    },
    "language_info": {
      "name": "python"
    },
    "accelerator": "GPU"
  },
  "cells": [
    {
      "cell_type": "markdown",
      "metadata": {
        "id": "rSvY9BcOwvKc"
      },
      "source": [
        "# Learning the Impact of Campaign Spending\n",
        "\n",
        "\n",
        "\n",
        "Team: Cluster One - Landon Buechner\n",
        "\n",
        "3/31/2021\n",
        "\n",
        "<br/>\n",
        "\n",
        "----\n",
        "<br/>\n",
        "\n",
        "\n",
        "**Abstract**\n",
        "\n",
        "In this work, I investigate to what degree campaign spending influences state level election outcomes in the 2016 presidential election between Hillary Clinton and Donald Trump using a hierarchical binomial-logit regression model with a Gaussian mixture prior on the random effects. \n",
        "\n",
        "<br/>\n",
        "\n",
        "**Data**\n",
        "\n",
        "I use the total amount of money spent over the course of the election by both Democratic (DEM) and Republican (REP) campains in 7 unique expense categories, leading to 14 financial predictors. These are augmented by 10 additional demographic features for each state $i \\in \\mathcal{S}$ where $ \\mathcal{S}$ is the index set for all 51 states. These are used to hierarchically model the proportion of DEM voters $\\theta_i$ in each state given the observed counts of DEM votes $y_i$ and total turnout $N_i$ using Bayesian inference. Note that the predictor variables are standardized. Letting $\\beta_i \\in \\mathbb{R}^{24}$ we have the following\n",
        "\n",
        "$$ X_i = ( \\text{expenses}, \\text{demographics})_i \\in \\mathbb{R}^{24}$$\n",
        "\n",
        "$$ \\text{logit}(\\theta_i) = X_i^T \\beta_i$$\n",
        "\n",
        "$$y_i \\sim \\text{Binomial}\\big(\\theta_i  ,  N_i )$$\n",
        "\n",
        "<br/>\n",
        "\n",
        "**Add Modelling Summary**\n",
        "\n",
        "Use fingers to type words\n",
        "\n",
        "<br/>\n",
        "\n",
        "**Latent Voter Populations**\n",
        "\n",
        "In my modelling procedure I intially fit a simple hierarchical binomial-logit regression model with a centered Gaussian prior on the state level regression coeficients. Interestingly this led to a posterior with whith multimodal marginal densities that shared common structure across states and can be interpreted as the existance of multiple sub-populations each with unique political leanings. For example, in any given state the DEM leaning sub-population will have a positive response to democratic advertisements whereas right leaning voters would have a significantly diminshed resulting in a bimodal posterior. It turns out that many of the marginal densities are in fact multimodal which suggest that there are additional groups of voters who too have their own unique response to various campaign investment in their state. \n",
        "\n",
        "The simple model with single Gaussian prior is able to reveal this multimodal structure, but not directly model it. The highlight of this work is a hierarchical binomial-logit regression model with a Gaussian mixture prior on the random effects. By changing the prior we are able to decompose the posterior into induvidual component Gaussians each which correspond to a distinct latent voter class. This decomposition is powerful a powerful tool for campaign strategists because it not only identifys, at the state level, what forms of spendending positively shift the vote but what latent subpopulations are responsible for that shift. \n",
        "\n",
        "The fundemental question at hand is: \"Within each state, how much money should be allocated to each expense category in order to maximize the odds of winning the election?\" To answer this question and conclude my research I conduct a simulation study where various asset allocation strategies are compared in an attempt to demonstrate the utility of my model in the real world. \n",
        " \n",
        "<br/>\n",
        "\n",
        "**Shortcomings / Limitations**\n",
        "\n",
        "The main simplification of this model is that it only considers one election at a time. This is a reasonable assumption because the evolution of the political climate over the course of every 4 years between elections is highly dynamic. That being said, there might be something to be learned by jointly modelling campaign expenses/stragy across elections because some states might exhibit consistent behavior over time. "
      ]
    },
    {
      "cell_type": "code",
      "metadata": {
        "id": "NtMktDkBJ0GN",
        "colab": {
          "base_uri": "https://localhost:8080/"
        },
        "outputId": "27b5ad00-d6c4-42b4-95da-92d7fda947e3"
      },
      "source": [
        "!pip install python-dotenv\n",
        "import os\n",
        "import json\n",
        "import string\n",
        "import numpy as np\n",
        "import pandas as pd\n",
        "import pickle\n",
        "import matplotlib.pyplot as plt\n",
        "import plotly.express as px\n",
        "import seaborn as sns\n",
        "from dataclasses import dataclass\n",
        "from dotenv import load_dotenv\n",
        "\n",
        "plt.rcParams.update({'font.size': 14})\n",
        "os.chdir('/content/drive/MyDrive/Data Science/TAMIDS 2021/Competition')\n",
        "load_dotenv()\n",
        "\n",
        "from utils import *\n",
        "from processing import *"
      ],
      "execution_count": null,
      "outputs": [
        {
          "output_type": "stream",
          "text": [
            "Collecting python-dotenv\n",
            "  Downloading https://files.pythonhosted.org/packages/3d/7b/4a0bcac71bf24e5a63d043e53e3f56e1838a91c760638e1a0fc5338a36aa/python_dotenv-0.16.0-py2.py3-none-any.whl\n",
            "Installing collected packages: python-dotenv\n",
            "Successfully installed python-dotenv-0.16.0\n"
          ],
          "name": "stdout"
        },
        {
          "output_type": "stream",
          "text": [
            "Python-dotenv could not parse statement starting at line 1\n"
          ],
          "name": "stderr"
        }
      ]
    },
    {
      "cell_type": "markdown",
      "metadata": {
        "id": "4uj5ok_N041o"
      },
      "source": [
        "# Data Processing"
      ]
    },
    {
      "cell_type": "code",
      "metadata": {
        "id": "RM6tN2qXSHtr"
      },
      "source": [
        "expense_path =  os.environ.get('expense_path')\n",
        "candidate_path = os.environ.get('candidate_path')\n",
        "category_path = os.environ.get('category_path')\n",
        "mapping_path = os.environ.get('mapping_path')\n",
        "results_path = os.environ.get('results_path')\n",
        "demographic_path = os.environ.get('demographic_path')"
      ],
      "execution_count": null,
      "outputs": []
    },
    {
      "cell_type": "code",
      "metadata": {
        "colab": {
          "base_uri": "https://localhost:8080/"
        },
        "id": "gxFpJn-MdXy-",
        "outputId": "cb8197bf-73e7-4bbb-bb06-06f5f1372d23"
      },
      "source": [
        "# loading the mapping used to create the dictionary below (categories)\n",
        "with open(mapping_path) as f:\n",
        "  mapping = json.load(f)\n",
        "\n",
        "# loading in the category mapping data\n",
        "with open(category_path) as f:\n",
        "  categories = json.load(f)\n",
        "\n",
        "mapping_counts = {key: len(value) for key, value in mapping.items()}\n",
        "category_counts = {key: len(value) for key, value in categories.items()}\n",
        "total1 = sum([i for i in mapping_counts.values()])\n",
        "total2 = sum([i for i in category_counts.values()])\n",
        "print(f\"Given a raw dataset with {total2} unique expense types only {category_counts['other']} expenses were \\\n",
        "unclassified ({100*round(category_counts['other']/total2, 4)}%).\")"
      ],
      "execution_count": null,
      "outputs": [
        {
          "output_type": "stream",
          "text": [
            "Given a raw dataset with 2515044 unique expense types only 317846 expenses were unclassified (12.64%).\n"
          ],
          "name": "stdout"
        }
      ]
    },
    {
      "cell_type": "markdown",
      "metadata": {
        "id": "GKvjGo9AuY8b"
      },
      "source": [
        "I defined 8 transaction categories and manually went through the FEC Operation expense dataset to identify key words ('PURPOSE' variable) so that I could label/simplify the dataset. These variables serve as predictor variables in the hierarchical model developed below. "
      ]
    },
    {
      "cell_type": "code",
      "metadata": {
        "colab": {
          "base_uri": "https://localhost:8080/"
        },
        "id": "72xERbxkuVrp",
        "outputId": "316a7728-77d0-45c4-ec1d-2fdaf88dc545"
      },
      "source": [
        "print(\"Total key words:\", total1)\n",
        "mapping_counts"
      ],
      "execution_count": null,
      "outputs": [
        {
          "output_type": "stream",
          "text": [
            "Total key words: 315\n"
          ],
          "name": "stdout"
        },
        {
          "output_type": "execute_result",
          "data": {
            "text/plain": [
              "{'administration': 43,\n",
              " 'advertising': 40,\n",
              " 'consulting': 43,\n",
              " 'events': 68,\n",
              " 'media': 50,\n",
              " 'non-expenditure': 25,\n",
              " 'other': 0,\n",
              " 'travel': 46}"
            ]
          },
          "metadata": {
            "tags": []
          },
          "execution_count": 4
        }
      ]
    },
    {
      "cell_type": "code",
      "metadata": {
        "colab": {
          "base_uri": "https://localhost:8080/",
          "height": 337
        },
        "id": "tzp_xZ24vInw",
        "outputId": "829edc9a-eb8b-42b2-a2cc-7540188caec0"
      },
      "source": [
        "plt.figure(figsize = (10,4))\n",
        "plt.bar(list(range(8)), height= [i for i in category_counts.values()], color = 'k')\n",
        "plt.xticks(list(range(8)),  [i for i in category_counts.keys()], rotation = 45)\n",
        "plt.title('Distribution of Relabled Expenses')\n",
        "plt.show()"
      ],
      "execution_count": null,
      "outputs": [
        {
          "output_type": "display_data",
          "data": {
            "image/png": "[encoded data removed]",
            "text/plain": [
              "<Figure size 720x288 with 1 Axes>"
            ]
          },
          "metadata": {
            "tags": [],
            "needs_background": "light"
          }
        }
      ]
    },
    {
      "cell_type": "code",
      "metadata": {
        "colab": {
          "base_uri": "https://localhost:8080/"
        },
        "id": "5b8AongFs3LD",
        "outputId": "fb835643-640d-441b-9198-0fb255138533"
      },
      "source": [
        "# cleaning/loading operation expenses and candidate committee data\n",
        "data = Dataset(expense_path, candidate_path, categories)"
      ],
      "execution_count": null,
      "outputs": [
        {
          "output_type": "stream",
          "text": [
            "/usr/local/lib/python3.7/dist-packages/IPython/core/interactiveshell.py:2882: DtypeWarning:\n",
            "\n",
            "Columns (5,11,14,16,17,19,24) have mixed types.Specify dtype option on import or set low_memory=False.\n",
            "\n"
          ],
          "name": "stderr"
        }
      ]
    },
    {
      "cell_type": "code",
      "metadata": {
        "colab": {
          "base_uri": "https://localhost:8080/",
          "height": 142
        },
        "id": "PyXHr1X4632z",
        "outputId": "f234694b-f38b-4f52-93b7-17c9d3d50877"
      },
      "source": [
        "# election results \n",
        "results = pd.read_csv(results_path).query(\"party in ['democrat', 'republican']\").sort_values(by = ['state_po'])\n",
        "results = results.groupby(['year', 'state_po', 'candidate'])[['candidatevotes', 'totalvotes']].sum().reset_index()\n",
        "results['lastname'] = results['candidate'].apply(lambda x: x.split(' ')[-1])\n",
        "results.head(3)"
      ],
      "execution_count": null,
      "outputs": [
        {
          "output_type": "execute_result",
          "data": {
            "text/html": [
              "<div>\n",
              "<style scoped>\n",
              "    .dataframe tbody tr th:only-of-type {\n",
              "        vertical-align: middle;\n",
              "    }\n",
              "\n",
              "    .dataframe tbody tr th {\n",
              "        vertical-align: top;\n",
              "    }\n",
              "\n",
              "    .dataframe thead th {\n",
              "        text-align: right;\n",
              "    }\n",
              "</style>\n",
              "<table border=\"1\" class=\"dataframe\">\n",
              "  <thead>\n",
              "    <tr style=\"text-align: right;\">\n",
              "      <th></th>\n",
              "      <th>year</th>\n",
              "      <th>state_po</th>\n",
              "      <th>candidate</th>\n",
              "      <th>candidatevotes</th>\n",
              "      <th>totalvotes</th>\n",
              "      <th>lastname</th>\n",
              "    </tr>\n",
              "  </thead>\n",
              "  <tbody>\n",
              "    <tr>\n",
              "      <th>0</th>\n",
              "      <td>2000</td>\n",
              "      <td>AK</td>\n",
              "      <td>Al Gore</td>\n",
              "      <td>79004.0</td>\n",
              "      <td>285530</td>\n",
              "      <td>Gore</td>\n",
              "    </tr>\n",
              "    <tr>\n",
              "      <th>1</th>\n",
              "      <td>2000</td>\n",
              "      <td>AK</td>\n",
              "      <td>George W. Bush</td>\n",
              "      <td>167398.0</td>\n",
              "      <td>285530</td>\n",
              "      <td>Bush</td>\n",
              "    </tr>\n",
              "    <tr>\n",
              "      <th>2</th>\n",
              "      <td>2000</td>\n",
              "      <td>AL</td>\n",
              "      <td>Al Gore</td>\n",
              "      <td>695602.0</td>\n",
              "      <td>1672551</td>\n",
              "      <td>Gore</td>\n",
              "    </tr>\n",
              "  </tbody>\n",
              "</table>\n",
              "</div>"
            ],
            "text/plain": [
              "   year state_po       candidate  candidatevotes  totalvotes lastname\n",
              "0  2000       AK         Al Gore         79004.0      285530     Gore\n",
              "1  2000       AK  George W. Bush        167398.0      285530     Bush\n",
              "2  2000       AL         Al Gore        695602.0     1672551     Gore"
            ]
          },
          "metadata": {
            "tags": []
          },
          "execution_count": 7
        }
      ]
    },
    {
      "cell_type": "markdown",
      "metadata": {
        "id": "3Bjdy5PKzG3W"
      },
      "source": [
        ""
      ]
    },
    {
      "cell_type": "code",
      "metadata": {
        "colab": {
          "base_uri": "https://localhost:8080/"
        },
        "id": "c8B8fh_Q_LKY",
        "outputId": "721f9b69-3d64-4d92-db9a-67310bba6be7"
      },
      "source": [
        "# getting (year, candidate) pairs\n",
        "election_list = results.groupby(['year', 'lastname']).count().index.values\n",
        "elections = {}\n",
        "for year, cand in election_list:\n",
        "  if year not in elections:\n",
        "    elections[year] = [cand]\n",
        "  else:\n",
        "    elections[year].append(cand)\n",
        "elections = [{'year': key, 'candidates': value} for key,value in elections.items()][3:]\n",
        "params = elections[-1]\n",
        "print(params)"
      ],
      "execution_count": null,
      "outputs": [
        {
          "output_type": "stream",
          "text": [
            "{'year': 2016, 'candidates': ['Clinton', 'Trump']}\n"
          ],
          "name": "stdout"
        }
      ]
    },
    {
      "cell_type": "code",
      "metadata": {
        "colab": {
          "base_uri": "https://localhost:8080/",
          "height": 261
        },
        "id": "lBOMbVRy1WCI",
        "outputId": "8c1e17ee-5171-46d8-8dd7-f811831194f4"
      },
      "source": [
        "# augmenting financial predictors with demographics \n",
        "demographics = pd.read_csv(demographic_path)\n",
        "expenses = get_expenses(data, params)\n",
        "X = get_covariates(expenses, demographics) # storing to display covariates to user\n",
        "num_states, num_vars = X.shape\n",
        "\n",
        "# standardizing\n",
        "X = (X-X.mean())/X.std()\n",
        "print(f'{X.shape[0]} states and {X.shape[1]} variables\\n\\nCovariates X:')\n",
        "X.head(3)"
      ],
      "execution_count": null,
      "outputs": [
        {
          "output_type": "stream",
          "text": [
            "51 states and 24 variables\n",
            "\n",
            "Covariates X:\n"
          ],
          "name": "stdout"
        },
        {
          "output_type": "execute_result",
          "data": {
            "text/html": [
              "<div>\n",
              "<style scoped>\n",
              "    .dataframe tbody tr th:only-of-type {\n",
              "        vertical-align: middle;\n",
              "    }\n",
              "\n",
              "    .dataframe tbody tr th {\n",
              "        vertical-align: top;\n",
              "    }\n",
              "\n",
              "    .dataframe thead th {\n",
              "        text-align: right;\n",
              "    }\n",
              "</style>\n",
              "<table border=\"1\" class=\"dataframe\">\n",
              "  <thead>\n",
              "    <tr style=\"text-align: right;\">\n",
              "      <th></th>\n",
              "      <th>DEM administration</th>\n",
              "      <th>DEM advertising</th>\n",
              "      <th>DEM consulting</th>\n",
              "      <th>DEM events</th>\n",
              "      <th>DEM media</th>\n",
              "      <th>DEM non-expenditure</th>\n",
              "      <th>DEM travel</th>\n",
              "      <th>REP administration</th>\n",
              "      <th>REP advertising</th>\n",
              "      <th>REP consulting</th>\n",
              "      <th>REP events</th>\n",
              "      <th>REP media</th>\n",
              "      <th>REP non-expenditure</th>\n",
              "      <th>REP travel</th>\n",
              "      <th>average_log_pop_within_5_miles</th>\n",
              "      <th>black_pct</th>\n",
              "      <th>college_pct</th>\n",
              "      <th>hisp_other_pct</th>\n",
              "      <th>median_age</th>\n",
              "      <th>pct_white_evangel</th>\n",
              "      <th>pop_density</th>\n",
              "      <th>pop_total</th>\n",
              "      <th>white_pct</th>\n",
              "      <th>wwc_pct</th>\n",
              "    </tr>\n",
              "    <tr>\n",
              "      <th>STATE</th>\n",
              "      <th></th>\n",
              "      <th></th>\n",
              "      <th></th>\n",
              "      <th></th>\n",
              "      <th></th>\n",
              "      <th></th>\n",
              "      <th></th>\n",
              "      <th></th>\n",
              "      <th></th>\n",
              "      <th></th>\n",
              "      <th></th>\n",
              "      <th></th>\n",
              "      <th></th>\n",
              "      <th></th>\n",
              "      <th></th>\n",
              "      <th></th>\n",
              "      <th></th>\n",
              "      <th></th>\n",
              "      <th></th>\n",
              "      <th></th>\n",
              "      <th></th>\n",
              "      <th></th>\n",
              "      <th></th>\n",
              "      <th></th>\n",
              "    </tr>\n",
              "  </thead>\n",
              "  <tbody>\n",
              "    <tr>\n",
              "      <th>AK</th>\n",
              "      <td>-0.168236</td>\n",
              "      <td>-0.147651</td>\n",
              "      <td>-0.402103</td>\n",
              "      <td>-0.192996</td>\n",
              "      <td>-0.400482</td>\n",
              "      <td>-0.170038</td>\n",
              "      <td>-0.297039</td>\n",
              "      <td>-0.224358</td>\n",
              "      <td>-0.21374</td>\n",
              "      <td>-0.614439</td>\n",
              "      <td>-0.639510</td>\n",
              "      <td>-0.478408</td>\n",
              "      <td>-0.301608</td>\n",
              "      <td>-0.362248</td>\n",
              "      <td>-0.923506</td>\n",
              "      <td>-0.739730</td>\n",
              "      <td>-0.447352</td>\n",
              "      <td>1.022013</td>\n",
              "      <td>-1.727401</td>\n",
              "      <td>-0.079657</td>\n",
              "      <td>-0.278217</td>\n",
              "      <td>-0.773299</td>\n",
              "      <td>-0.450168</td>\n",
              "      <td>-0.477843</td>\n",
              "    </tr>\n",
              "    <tr>\n",
              "      <th>AL</th>\n",
              "      <td>-0.169202</td>\n",
              "      <td>-0.095724</td>\n",
              "      <td>-0.381720</td>\n",
              "      <td>-0.187772</td>\n",
              "      <td>-0.400482</td>\n",
              "      <td>-0.170201</td>\n",
              "      <td>-0.292454</td>\n",
              "      <td>-0.215521</td>\n",
              "      <td>-0.21374</td>\n",
              "      <td>-0.356828</td>\n",
              "      <td>-0.526189</td>\n",
              "      <td>-0.418276</td>\n",
              "      <td>-0.224125</td>\n",
              "      <td>-0.357785</td>\n",
              "      <td>-0.881205</td>\n",
              "      <td>1.444832</td>\n",
              "      <td>-0.905888</td>\n",
              "      <td>-0.843947</td>\n",
              "      <td>0.238511</td>\n",
              "      <td>1.586981</td>\n",
              "      <td>-0.210551</td>\n",
              "      <td>-0.200914</td>\n",
              "      <td>-0.178956</td>\n",
              "      <td>0.146496</td>\n",
              "    </tr>\n",
              "    <tr>\n",
              "      <th>AR</th>\n",
              "      <td>-0.166139</td>\n",
              "      <td>-0.147662</td>\n",
              "      <td>-0.334160</td>\n",
              "      <td>6.950017</td>\n",
              "      <td>-0.388596</td>\n",
              "      <td>-0.169912</td>\n",
              "      <td>-0.253917</td>\n",
              "      <td>-0.223641</td>\n",
              "      <td>-0.21374</td>\n",
              "      <td>-0.543377</td>\n",
              "      <td>-0.461226</td>\n",
              "      <td>-0.385026</td>\n",
              "      <td>-0.294361</td>\n",
              "      <td>-0.362238</td>\n",
              "      <td>-1.111365</td>\n",
              "      <td>0.411059</td>\n",
              "      <td>-1.316790</td>\n",
              "      <td>-0.577144</td>\n",
              "      <td>-0.089141</td>\n",
              "      <td>1.823257</td>\n",
              "      <td>-0.238431</td>\n",
              "      <td>-0.461596</td>\n",
              "      <td>0.258624</td>\n",
              "      <td>0.681770</td>\n",
              "    </tr>\n",
              "  </tbody>\n",
              "</table>\n",
              "</div>"
            ],
            "text/plain": [
              "       DEM administration  DEM advertising  ...  white_pct   wwc_pct\n",
              "STATE                                       ...                     \n",
              "AK              -0.168236        -0.147651  ...  -0.450168 -0.477843\n",
              "AL              -0.169202        -0.095724  ...  -0.178956  0.146496\n",
              "AR              -0.166139        -0.147662  ...   0.258624  0.681770\n",
              "\n",
              "[3 rows x 24 columns]"
            ]
          },
          "metadata": {
            "tags": []
          },
          "execution_count": 9
        }
      ]
    },
    {
      "cell_type": "code",
      "metadata": {
        "id": "R46gYncS3loy"
      },
      "source": [
        "import pymc3 as pm \n",
        "from scipy.special import expit #inverse logistic function"
      ],
      "execution_count": null,
      "outputs": []
    },
    {
      "cell_type": "markdown",
      "metadata": {
        "id": "yy3DmkQ1Elrn"
      },
      "source": [
        "**Note:** Refer to the write up for a more in depth discussion of the hierarchical model and model diagnostics. The remaining cells contain both my main model development as well as additional experimentation with more complex models.\n",
        "\n",
        "<br />\n",
        "\n",
        "**Parameter Descriptions**\n",
        "  - $\\beta_i$ - Covariates for state $i$\n",
        "  - $\\beta^{\\mu}$ - Normal prior (Used differently between Model 1 and 2)\n",
        "  - $\\mu$ - Fixed mean for mixture components (Model 2)\n",
        "  - $w$ - Dirichlet prior over Mixture weightings\n",
        "  \n",
        "\n",
        "**Fixed Variables**\n",
        "  - $\\boldsymbol{1}_K \\in \\mathbb{R}^K$ - One vector\n",
        "  - $\\Sigma \\in \\mathbb{R}^{24 \\times 24}$ - Precomputed correlation matrix of the predictors\n",
        "  - $\\mathbb{I} \\in \\mathbb{R}^{24 \\times 24}$ - Diagonal covariance matrix \n",
        "\n",
        "**Motivation for selected scale factors**\n",
        "  - $\\lambda_1 = 50$\n",
        "    - In light of the hierarchical nature of the model it makes sense to have the most uncertainty at the lowest level, namely the prior on the Gaussian mixture components. \n",
        "  -  $\\lambda_2 = 25$ \n",
        "    - For the distribution of the state level effects, the main parameter of interest and at the top of the hierarchy. I slightly decrease the multiplier to further refine the parameter space. \n",
        "    - I also reuse this parameter for the offsets. Since the mixture components are sampled from the aforementioned distribution, I slightly decrease the injected variance into the covariance of the parameter offsets (avoiding \"The Funnel of Hell!\") so that they have sufficient wiggle room within the support of the root distributions."
      ]
    },
    {
      "cell_type": "markdown",
      "metadata": {
        "id": "8exrhfuBooNY"
      },
      "source": [
        "# Bayesian Hierarchical Models\n",
        "\n",
        "I fit two models because when I was developing these models I started with the more simple one and made changed based on the results of inference. Note that the notation for the distribution of the offsets is suprsessed for readability. To see the full model structure refer to the pymc3 implimentations below.\n",
        "\n",
        "**Model 1:**\n",
        "---\n",
        "\n",
        "Estimating heirarchical model with regularizing prior. \n",
        "\n",
        "$$y_i \\sim \\text{Binomial}\\big(\\theta_i  ,  N_i )$$\n",
        "\n",
        "$$ \\text{logit}(\\theta_i) = X_i^T \\beta_i$$\n",
        "\n",
        "$$\\beta_i \\sim \\mathcal{N}(\\,\\beta^{\\mu} , \\, \\lambda_2\\Sigma\\,)$$\n",
        "  \n",
        "$$\\beta^{\\mu} \\sim  \\mathcal{N}(\\, 0 \\,, \\, \\lambda_1 \\mathbb{I}\\,)$$\n",
        "\n",
        "Posterior density for the hierarchical binomial-logit regression model with a centered gaussian prior\n",
        "\n",
        "$$ \\pi(\\,\\beta \\, | \\, X, \\, Y) \\propto \\prod_{i=1}^{51} \\text{Binomial}\\big(\\, y_i \\, | \\, \\theta_i, \\,N_i \\,\\big) \\, \\mathcal{N}(\\, \\beta_i  \\, | \\, \\lambda_2 \\Sigma \\,) \\, \\mathcal{N}(\\, \\beta^{\\mu} \\, | \\, \\lambda_1 \\mathbb{I}\\,)$$\n",
        "\n",
        "**Model 2**\n",
        "---\n",
        "\n",
        "I use the posterior mean of the state level coefficients $\\mu$ from the first model as the hyperprior mean for the guassian mixtures in the second model. With regards to sampling, this is effectively a 'warm start'. \n",
        "\n",
        "$$y_i \\sim \\text{Binomial}\\big(\\theta_i  ,  N_i )$$\n",
        "\n",
        "$$ \\text{logit}(\\theta_i) = X_i^T \\beta_i$$\n",
        "\n",
        "$$\\beta_i \\sim \\sum_{h=1}^K w_h \\, \\mathcal{N}_h(\\,\\beta^{\\mu}  , \\, \\lambda_2  \\Sigma\\,)$$ \n",
        "\n",
        "$$w \\sim \\text{Dirichlet}(\\,\\boldsymbol{1}_K\\,)$$ \n",
        "\n",
        "$$\\beta^{\\mu} \\sim \\mathcal{N}(\\, \\mu , \\,\\lambda_1 \\mathbb{I} \\,)$$\n",
        "\n",
        "<br />\n",
        "\n",
        "Posterior density for the hierarchical binomial-logit regression model with a mixture random effects prior\n",
        "\n",
        "<br />\n",
        "\n",
        "$$ \\pi(\\, \\beta, \\, w \\, | \\, X, \\, Y) \\propto \\prod_{i=1}^{51} \\text{Binomial}\\big(\\, y_i \\, | \\, \\theta_i, \\,N_i \\,\\big) \\, \\mathcal{N}(\\, \\beta_i \\, | \\, \\lambda_2 \\Sigma \\,) \\bigg[\\sum_{h=1}^{K}w_h \\, \\mathcal{N}_h(\\, \\beta^{\\mu}  \\, | \\, \\lambda_1 \\mathbb{I} \\,)\\bigg]\\pi(w)$$"
      ]
    },
    {
      "cell_type": "code",
      "metadata": {
        "id": "sxjJ4xo7Btkr"
      },
      "source": [
        "#Loading in observations to use in the Binomial likelihood\n",
        "year = params['year']\n",
        "res = results.query(\"year == @year & lastname == 'Clinton'\")\n",
        "y = res['candidatevotes']\n",
        "N = res['totalvotes']\n",
        "\n",
        "# stablizing the correlation matrix by making it diagonally dominant, helps with singularities \n",
        "corr_matr = X.corr() + 5*np.eye(num_vars) #\n",
        "corr_matr[abs(corr_matr) < 0] = 0"
      ],
      "execution_count": null,
      "outputs": []
    },
    {
      "cell_type": "markdown",
      "metadata": {
        "id": "9VCMeLW8ribG"
      },
      "source": [
        "**Reparameterization Trick**\n",
        "\n",
        "An important adjustment to both models hierarchical structure is made in order to allow for better convergence. By adding an intermediate prior that models the shift of the $\\beta_i$ from the prior we can combat the so called \"Funnel of Hell\". Without the reparameterization discussed in the link below, effective sampling of the posterior would be infeasable.\n",
        "\n",
        "[Why hierarchical models are awesome, tricky, and Bayesian](https://twiecki.io/blog/2017/02/08/bayesian-hierchical-non-centered/)"
      ]
    },
    {
      "cell_type": "markdown",
      "metadata": {
        "id": "F7bJd_eU-v_z"
      },
      "source": [
        "# Model 1"
      ]
    },
    {
      "cell_type": "code",
      "metadata": {
        "colab": {
          "base_uri": "https://localhost:8080/"
        },
        "id": "gLxrLPxu-vjx",
        "outputId": "7448ef33-d572-414b-f565-d07d7429e660"
      },
      "source": [
        "# injecting uncertainty into the covariance\n",
        "Lambda1 = 50 \n",
        "Lambda2 = 25 \n",
        "\n",
        "# Specifying Hierarchical Model and performing MCMC\n",
        "with pm.Model() as Induv_Model:\n",
        "  beta_mu = pm.MvNormal('beta_mu', mu = np.zeros(num_vars), cov = Lambda1*np.eye(num_vars), shape = (num_vars,))\n",
        "  beta_offset = pm.MvNormal('offset', mu = np.zeros(num_vars), cov = Lambda2*np.eye(num_vars), shape = (num_vars,))\n",
        "  beta = pm.MvNormal('beta', mu = beta_mu+beta_offset, cov = Lambda2*corr_matr, shape = (num_states, num_vars))\n",
        "  thetas = pm.math.invlogit(pm.math.sum(X.values*beta, axis = 1))\n",
        "  likelihood = pm.Binomial(\"likelihood\", observed = y, n = N, p = thetas)\n",
        "  Induv_Trace = pm.sample(4500, tune=1000, chains = 1)  "
      ],
      "execution_count": null,
      "outputs": [
        {
          "output_type": "stream",
          "text": [
            "Auto-assigning NUTS sampler...\n",
            "Initializing NUTS using jitter+adapt_diag...\n",
            "Sequential sampling (1 chains in 1 job)\n",
            "NUTS: [beta, offset, beta_mu]\n",
            "100%|██████████| 4600/4600 [40:03<00:00,  1.91it/s]\n",
            "There were 13 divergences after tuning. Increase `target_accept` or reparameterize.\n",
            "The acceptance probability does not match the target. It is 0.9983106074858213, but should be close to 0.8. Try to increase the number of tuning steps.\n",
            "The chain reached the maximum tree depth. Increase max_treedepth, increase target_accept or reparameterize.\n",
            "Only one chain was sampled, this makes it impossible to run some convergence checks\n"
          ],
          "name": "stderr"
        }
      ]
    },
    {
      "cell_type": "markdown",
      "metadata": {
        "id": "Wm-FCCOMu2ef"
      },
      "source": [
        "Diagnosing convergence via trace plots. Each figure contains the overlayed samples for all 24 covariates. I color coded them based on party and set demographic variables to be black."
      ]
    },
    {
      "cell_type": "markdown",
      "metadata": {
        "id": "veUR4AP6u6v_"
      },
      "source": [
        "![kde plots, scale = .4](https://drive.google.com/uc?export=view&id=1-NvHkhJhQpiU5aPADf5jUuqw3jJE7Kjd)"
      ]
    },
    {
      "cell_type": "markdown",
      "metadata": {
        "id": "IHa9hopKUKi4"
      },
      "source": [
        "## Quick look at the posterior estimates\n",
        "\n",
        "Below are a few hypothesis drawn from the figures below."
      ]
    },
    {
      "cell_type": "code",
      "metadata": {
        "colab": {
          "base_uri": "https://localhost:8080/",
          "height": 902
        },
        "id": "4_Zyr_3XFl0T",
        "outputId": "27164da5-0972-48f6-c993-d92ed5616b2e"
      },
      "source": [
        "state_coefs = Induv_Trace['beta']\n",
        "print(\"State Level Samples:\", state_coefs.shape)\n",
        "\n",
        "# quick visualization to gaugue both convergence for state level estimates\n",
        "inspect_samples(state_coefs, states, X.columns, N = 25, M = 18)"
      ],
      "execution_count": null,
      "outputs": [
        {
          "output_type": "stream",
          "text": [
            "State Level Samples: (4500, 51, 24)\n"
          ],
          "name": "stdout"
        },
        {
          "output_type": "display_data",
          "data": {
            "image/png": "[encoded data removed]",
            "text/plain": [
              "<Figure size 864x792 with 2 Axes>"
            ]
          },
          "metadata": {
            "tags": [],
            "needs_background": "light"
          }
        }
      ]
    },
    {
      "cell_type": "markdown",
      "metadata": {
        "id": "ESxdB6tNFuZO"
      },
      "source": [
        "- Figure 1: \n",
        "  - The first plot displays the states with the highest average variance for the marginal densities for $\\beta_i$. These are sorted in order to dispaly the states with the highest level of uncertainty in the parameter estimates. In other words, these states are the hardest to model given the financial and demographic predictors. \n",
        "  - Another potential driving factor for parameter uncertainty for each state is voter turnout $N_i$ though I am not 100% certain about this. I make this conclusion because small states such as Delaware, Conneticuit, Hawaii, Maine, etc are all present in the states with the highest variance. \n",
        "  - Interestingly, 5 of the swingstates in the 2016 election are present.\n",
        "\n",
        "<br />\n",
        "\n",
        "- Figure 2: \n",
        "  - The second plot displays the parameter values averaged over all states. The primary observation that supports the validity of the model is that democratic covariates are mainly positive and republican covariates are negative. Recall that $\\theta_i$ is the proportion of democratic voters thus republican consultants and their respective strategies naturally have a negative effect! \n",
        "  - It is important to realize that for some states the parameter values are $|\\beta_{i,j}| > 1$. The displayed values are within such a tight interval [-0.2, 0.2] because many states have covariates which are close to 0. Also remember that our predictors have been standardized! Nonetheless, it is interesting to see which covariates tend to have the largest impact on election outcomes $\\theta_i$. \n",
        "  - Another observation is that on average external consultants tend to be highly influential. This makes sense because campaign strategy is an effective use of campaign investment, regardless of the state. \n",
        "\n"
      ]
    },
    {
      "cell_type": "markdown",
      "metadata": {
        "id": "nm7xMWpWMWUU"
      },
      "source": [
        "## Multimodal posteriod distribution\n",
        "\n",
        "Below is a grid of 4 states and 4 covariates and their respective marginal posterior density estimates. Before interpreting meaning of these densities, focus your attention on the second column. This is the distribution of republican advertising across Vermonte, Virgina, Washington, and West Virginia. Clearly this distribution is at least a mixture of two Gaussians. This observation is the primary motivation for my improvement to the original model by incorporating a Gaussian mixture prior. \n",
        "\n",
        "Technical details aside, what does this mean in reality? How could it be that we have two 'slopes'?\n",
        "\n",
        "\n",
        "\n",
        "\n",
        "\n",
        "\n"
      ]
    },
    {
      "cell_type": "markdown",
      "metadata": {
        "id": "Ge6DLDjojXlh"
      },
      "source": [
        "Note: I dumped the code to make these plots in a .txt file because it it is super ugly and ruins the readability of this notebook."
      ]
    },
    {
      "cell_type": "markdown",
      "metadata": {
        "id": "O03RMNJ52yzF"
      },
      "source": [
        "![kde plots, scale = .4](https://drive.google.com/uc?export=view&id=1-2vlrSNUDAVyrQe-GVgcJqzkaRFv341t)"
      ]
    },
    {
      "cell_type": "markdown",
      "metadata": {
        "id": "cAJtsHTfTpVP"
      },
      "source": [
        "My guess is that in each state there exist various underlying population groups each with different voting characteristics and the model is picking those out / revealing that underlying structure. For example, in any given state the democratic leaning subpopulation will have a positive response to democratic advertisements while republicans would be less enthusiastic. In a simplified world every marginal posterior would be bimodal to reflect these two underlying groups of people. Within this simplified framework, this is a logical deduction because in any given state there likely exists a rural and urban population with republican and democratcic leanings resepectively. In reality, there exists wide range of voter preferences leading to multiple underlying subpopulations all each a unique response to spending from both parties. If this hypothesis is true, then this specific model is super intersting becayse it can reveal underlying classes of voters in each state! \n",
        "\n",
        "<br />\n",
        "\n",
        "\n",
        "*With a clear understanding of the existing voter classes and how they are distributed across states, a campaign can devise more targeted campaign strategies and optimize expenditures / investments.*\n",
        "----\n"
      ]
    },
    {
      "cell_type": "markdown",
      "metadata": {
        "id": "l_OCh39yDwsF"
      },
      "source": [
        "# Model 2"
      ]
    },
    {
      "cell_type": "markdown",
      "metadata": {
        "id": "Ks55GlyosBLz"
      },
      "source": [
        "The marginal posterior densities estimated with the first model are clearly finite mixtures of gaussians. Now I introduce a Gaussian mixture prior so that we can directly model the latent voter classes / mixture components."
      ]
    },
    {
      "cell_type": "code",
      "metadata": {
        "id": "3XTY-PuWsfwJ"
      },
      "source": [
        "# Loading in pickled trace from the initial model.\n",
        "_path = '/content/drive/MyDrive/Data Science/TAMIDS 2021/Competition/single_prior_model.pkl'\n",
        "with open(_path, 'rb') as input:\n",
        "    model_dict = pickle.load(input)\n",
        "    Induv_Model = model_dict['model']\n",
        "    Induv_Trace = model_dict['trace']"
      ],
      "execution_count": null,
      "outputs": []
    },
    {
      "cell_type": "code",
      "metadata": {
        "id": "-Y5KFimXs5Vd"
      },
      "source": [
        "# fixed parameters\n",
        "corr_matr = X.corr() + 5*np.eye(num_vars)\n",
        "prior_mean = np.mean(Induv_Trace['beta_mu'][1000:], axis = 0)\n",
        "\n",
        "# injecting uncertainty into the covariance\n",
        "Lambda1 = 50\n",
        "Lambda2 = 25\n",
        "Lambda3 = 25\n",
        "\n",
        "# numer of mixture components\n",
        "K = 5"
      ],
      "execution_count": null,
      "outputs": []
    },
    {
      "cell_type": "code",
      "metadata": {
        "id": "20A7kSVADKvV"
      },
      "source": [
        "# Specifying Hierarchical Model and performing MCMC\n",
        "with pm.Model() as Mixture_Model:\n",
        "\n",
        "  # prior distribution over mixture component means\n",
        "  beta_mu = pm.MvNormal('beta_mu', mu = prior_mean, cov = Lambda1*np.eye(num_vars), shape = (num_vars,))\n",
        "  offset = pm.MvNormal('offset', mu = np.zeros(num_vars), cov = Lambda2*np.eye(num_vars), shape = (num_vars,))\n",
        "\n",
        "  # dirichlet distribution over component weights mixture prior initialization\n",
        "  weights = pm.Dirichlet('w', a= np.ones(K))\n",
        "  beta_components = [pm.MvNormal(f'component_{i}', mu = beta_mu+offset, cov = Lambda1*np.eye(num_vars), shape = (num_vars)).distribution for i in range(K)]\n",
        "  beta_mixture = pm.Mixture('beta_mixture', w = weights, comp_dists = beta_components, shape = ( num_vars))\n",
        "\n",
        "  # state level effects\n",
        "  beta = pm.MvNormal('beta', mu = beta_mixture , cov = Lambda3*corr_matr, shape = (num_states, num_vars))\n",
        "\n",
        "  # binomial-logit regression model\n",
        "  thetas = pm.math.invlogit(pm.math.sum(X.values*beta, axis = 1))\n",
        "  likelihood = pm.Binomial(\"likelihood\", observed = y, n = N, p = thetas)\n",
        "  Mixture_Trace = pm.sample(4500, tune=1000, chains = 1)  "
      ],
      "execution_count": null,
      "outputs": []
    },
    {
      "cell_type": "markdown",
      "metadata": {
        "id": "EqVotS8hoiQ9"
      },
      "source": [
        "Note that the above model works I just didn't get to a good stopping point so I stopped here."
      ]
    },
    {
      "cell_type": "markdown",
      "metadata": {
        "id": "QeaOsbc8v0OR"
      },
      "source": [
        "# To-Do! \n",
        "\n",
        "- A lot of stuff still"
      ]
    },
    {
      "cell_type": "markdown",
      "metadata": {
        "id": "DXqS1796yHwL"
      },
      "source": [
        "# References in no particular order\n",
        "\n",
        "Primary Inspiration: [An Updated Dynamic Bayesian Forecasting Model for the US Presidential Election ](https://hdsr.mitpress.mit.edu/pub/nw1dzd02/release/1)\n",
        "\n",
        "<br />\n",
        "\n",
        "**Misc Links**\n",
        "\n",
        "- https://twiecki.io/blog/2014/03/17/bayesian-glms-3/\n",
        "\n",
        "- https://twiecki.io/blog/2017/02/08/bayesian-hierchical-non-centered/\n",
        "\n",
        "- https://docs.pymc.io/notebooks/GLM-hierarchical-binominal-model.html\n",
        "\n",
        "- https://m-clark.github.io/bayesian-basics/diagnostics.html\n",
        "\n",
        "- https://mc-stan.org/docs/2_26/stan-users-guide/clustering-mixture-section.html"
      ]
    }
  ]
}